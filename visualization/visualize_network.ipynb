{
 "cells": [
  {
   "cell_type": "code",
   "execution_count": 2,
   "metadata": {},
   "outputs": [],
   "source": [
    "import os,sys\n",
    "import numpy as np\n",
    "import pandas as pd\n",
    "import joblib\n",
    "from tqdm import tqdm\n",
    "\n",
    "import torch\n",
    "import torch.nn as nn\n",
    "import torch.nn.functional as F\n",
    "from torch.utils.data import Dataset,random_split,DataLoader\n",
    "from torch.utils.tensorboard import SummaryWriter\n",
    "\n",
    "sys.path.append(\"../models/\")\n",
    "from uncertainty_surrogate_model import UncertaintySurrogateModel\n",
    "from model_utils import MyDataset,train_val_test_split,resume\n",
    "\n",
    "model_dir = \"../results/standard-test/32-components/\"\n",
    "model_config = {'model_dir': model_dir,\n",
    "                'batch_size': 1,\n",
    "                'lookback': 8,\n",
    "                'lookahead': 4,\n",
    "                'device': 'cpu',\n",
    "                'train_predict_mode': 'direct',\n",
    "                'sample_size': (8,4),\n",
    "                'seed': 0,\n",
    "                'num_components': 32}"
   ]
  },
  {
   "cell_type": "code",
   "execution_count": 4,
   "metadata": {},
   "outputs": [],
   "source": [
    "model =  UncertaintySurrogateModel(model_config)\n",
    "resume(model)\n",
    "\n",
    "writer = SummaryWriter(log_dir='../results/experiment/neural-network/')\n",
    "\n",
    "for name, param in model.named_parameters():\n",
    "    writer.add_histogram(tag=name+'_data', values=param.data)"
   ]
  }
 ],
 "metadata": {
  "kernelspec": {
   "display_name": "fjl",
   "language": "python",
   "name": "python3"
  },
  "language_info": {
   "codemirror_mode": {
    "name": "ipython",
    "version": 3
   },
   "file_extension": ".py",
   "mimetype": "text/x-python",
   "name": "python",
   "nbconvert_exporter": "python",
   "pygments_lexer": "ipython3",
   "version": "3.10.12"
  },
  "orig_nbformat": 4
 },
 "nbformat": 4,
 "nbformat_minor": 2
}
