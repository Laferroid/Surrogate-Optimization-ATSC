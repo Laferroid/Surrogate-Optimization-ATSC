{
 "cells": [
  {
   "cell_type": "code",
   "execution_count": 1,
   "id": "aa22f7e9",
   "metadata": {},
   "outputs": [],
   "source": [
    "#%%\n",
    "# region import\n",
    "import sys,os,datetime\n",
    "import torch\n",
    "import numpy as np\n",
    "import yaml,argparse\n",
    "\n",
    "sys.path.append(\"../models/\")\n",
    "from uncertainty_surrogate_model import UncertaintySurrogateModel\n",
    "from model_utils import train,MyDataset,get_dataloader\n",
    "\n",
    "device = torch.device(\"cuda:0\" if torch.cuda.is_available() else \"cpu\")\n",
    "print(device)\n",
    "# endregion"
   ]
  },
  {
   "cell_type": "code",
   "execution_count": 2,
   "id": "b9d3a417",
   "metadata": {},
   "outputs": [],
   "source": [
    "#%%\n",
    "config_dir = \"../configs/default_config.yaml\"\n",
    "\n",
    "parser = argparse.ArgumentParser(\"Surrogate model training\")\n",
    "parser.add_argument('--exp_name',help=\"experiment name\",type=str,default=\"gamma-1.0\")\n",
    "parser.add_argument('--data_dir',help=\"data directory\",type=str,default=\"../data/training_data/standard-1.0/\")\n",
    "args = parser.parse_known_args()[0]  # parse_known_args返回两个元素，第一个为所求的NameSpace，第二个是unknown args的列表\n",
    "\n",
    "# process argparse & yaml\n",
    "config = vars(args)\n",
    "with open(config_dir,'r+') as f:\n",
    "    # args = yaml.safe_load(f,Loader=yaml.FullLoader)\n",
    "    args = yaml.safe_load(f)\n",
    "config.update(args)\n",
    "\n",
    "exp_dir = config['base_dir'] + config['exp_name'] + \"/\"\n",
    "# model_name = datetime.datetime.now().strftime(\"%Y-%m-%d_%H-%M-%S\")\n",
    "model_name = 'baseline'\n",
    "model_dir = exp_dir + model_name + \"/\"\n",
    "\n",
    "if not os.path.isdir(exp_dir):\n",
    "    os.mkdir(exp_dir)\n",
    "if not os.path.isdir(model_dir):\n",
    "    os.mkdir(model_dir)\n",
    "\n",
    "config['model_name'] = model_name\n",
    "config['model_dir'] = model_dir\n",
    "config['device'] = device"
   ]
  },
  {
   "cell_type": "code",
   "execution_count": 3,
   "id": "6ef8e349",
   "metadata": {},
   "outputs": [
    {
     "data": {
      "application/vnd.jupyter.widget-view+json": {
       "model_id": "a82375ccf2744cfb953a0060b064f300",
       "version_major": 2,
       "version_minor": 0
      },
      "text/plain": [
       "VBox(children=(Label(value='Waiting for wandb.init()...\\r'), FloatProgress(value=0.016666666666666666, max=1.0…"
      ]
     },
     "metadata": {},
     "output_type": "display_data"
    },
    {
     "data": {
      "text/html": [
       "Tracking run with wandb version 0.15.8"
      ],
      "text/plain": [
       "<IPython.core.display.HTML object>"
      ]
     },
     "metadata": {},
     "output_type": "display_data"
    },
    {
     "data": {
      "text/html": [
       "Run data is saved locally in <code>d:\\FJL\\project\\utils\\wandb\\run-20230811_010126-666</code>"
      ],
      "text/plain": [
       "<IPython.core.display.HTML object>"
      ]
     },
     "metadata": {},
     "output_type": "display_data"
    },
    {
     "data": {
      "text/html": [
       "Syncing run <strong><a href='https://wandb.ai/2658328036/surrogate-model/runs/666' target=\"_blank\">666</a></strong> to <a href='https://wandb.ai/2658328036/surrogate-model' target=\"_blank\">Weights & Biases</a> (<a href='https://wandb.me/run' target=\"_blank\">docs</a>)<br/>"
      ],
      "text/plain": [
       "<IPython.core.display.HTML object>"
      ]
     },
     "metadata": {},
     "output_type": "display_data"
    },
    {
     "data": {
      "text/html": [
       " View project at <a href='https://wandb.ai/2658328036/surrogate-model' target=\"_blank\">https://wandb.ai/2658328036/surrogate-model</a>"
      ],
      "text/plain": [
       "<IPython.core.display.HTML object>"
      ]
     },
     "metadata": {},
     "output_type": "display_data"
    },
    {
     "data": {
      "text/html": [
       " View run at <a href='https://wandb.ai/2658328036/surrogate-model/runs/666' target=\"_blank\">https://wandb.ai/2658328036/surrogate-model/runs/666</a>"
      ],
      "text/plain": [
       "<IPython.core.display.HTML object>"
      ]
     },
     "metadata": {},
     "output_type": "display_data"
    }
   ],
   "source": [
    "#%% 训练模型\n",
    "if __name__ == \"__main__\":\n",
    "    # Windows上多进程的实现问题。在Windows上，子进程会自动import启动它的文件，而在import的时候会执行这些语句，就会无限递归创建子进程报错。\n",
    "    # 设置随机数种子\n",
    "    # torch.backends.cudnn.deterministic = True\n",
    "    # random.seed(config['seed'])\n",
    "    np.random.seed(config['seed'])\n",
    "    # torch.manual_seed(config['seed'])\n",
    "    # torch.cuda.manual_seed_all(config['seed'])\n",
    "    \n",
    "    dataset = MyDataset(config)\n",
    "    print(len(dataset))\n",
    "    train_dl,val_dl,test_dl = get_dataloader(dataset,config)\n",
    "    \n",
    "    model = UncertaintySurrogateModel(config)\n",
    "    train(model,8,train_dl,val_dl,config)\n",
    "    \n",
    "    print(\"finished !\")\n",
    "    "
   ]
  }
 ],
 "metadata": {
  "kernelspec": {
   "display_name": "Python 3",
   "language": "python",
   "name": "python3"
  },
  "language_info": {
   "codemirror_mode": {
    "name": "ipython",
    "version": 3
   },
   "file_extension": ".py",
   "mimetype": "text/x-python",
   "name": "python",
   "nbconvert_exporter": "python",
   "pygments_lexer": "ipython3",
   "version": "3.10.12"
  }
 },
 "nbformat": 4,
 "nbformat_minor": 5
}
